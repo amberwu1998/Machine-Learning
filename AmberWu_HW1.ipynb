{
  "nbformat": 4,
  "nbformat_minor": 0,
  "metadata": {
    "colab": {
      "provenance": []
    },
    "kernelspec": {
      "name": "python3",
      "display_name": "Python 3"
    },
    "language_info": {
      "name": "python"
    }
  },
  "cells": [
    {
      "cell_type": "code",
      "execution_count": null,
      "metadata": {
        "id": "1thzzuhhhntE"
      },
      "outputs": [],
      "source": [
        "import numpy as np\n",
        "import pandas as pd\n",
        "import matplotlib.pyplot as plt\n"
      ]
    },
    {
      "cell_type": "markdown",
      "source": [
        "import numpy, pandas, and matplotlib"
      ],
      "metadata": {
        "id": "wRMyL5kyk46D"
      }
    },
    {
      "cell_type": "code",
      "source": [
        "df = pd.read_csv('/content/drive/MyDrive/machinelearning dataset/hba1c_bloodGlucose.dat.txt', sep='\\s+', skiprows=30)\n",
        "print(df.columns)\n",
        "print(len(df))"
      ],
      "metadata": {
        "colab": {
          "base_uri": "https://localhost:8080/"
        },
        "id": "VtZYa6b2lSX4",
        "outputId": "1430f777-8703-4fb8-f4e8-e26c408603c5"
      },
      "execution_count": 11,
      "outputs": [
        {
          "output_type": "stream",
          "name": "stdout",
          "text": [
            "Index(['hba1c', 'rbg'], dtype='object')\n",
            "349\n"
          ]
        }
      ]
    },
    {
      "cell_type": "code",
      "source": [
        "from google.colab import drive\n",
        "drive.mount('/content/drive')"
      ],
      "metadata": {
        "colab": {
          "base_uri": "https://localhost:8080/"
        },
        "id": "mZsYJqwxC8QE",
        "outputId": "1e37f40d-dddc-4067-b402-78e246f29d15"
      },
      "execution_count": 10,
      "outputs": [
        {
          "output_type": "stream",
          "name": "stdout",
          "text": [
            "Mounted at /content/drive\n"
          ]
        }
      ]
    },
    {
      "cell_type": "code",
      "source": [
        "!pwd"
      ],
      "metadata": {
        "colab": {
          "base_uri": "https://localhost:8080/"
        },
        "id": "x8E8DvBvnQGK",
        "outputId": "00c0bdd3-761a-44bd-90b4-31f8e39caf5b"
      },
      "execution_count": 12,
      "outputs": [
        {
          "output_type": "stream",
          "name": "stdout",
          "text": [
            "/content\n"
          ]
        }
      ]
    },
    {
      "cell_type": "code",
      "source": [
        "a = df.values\n",
        "a.shape"
      ],
      "metadata": {
        "colab": {
          "base_uri": "https://localhost:8080/"
        },
        "id": "PQxTvaCcnRTa",
        "outputId": "7dc68eb9-ebfd-4e6b-c779-55a9e0b3c3e0"
      },
      "execution_count": 13,
      "outputs": [
        {
          "output_type": "execute_result",
          "data": {
            "text/plain": [
              "(349, 2)"
            ]
          },
          "metadata": {},
          "execution_count": 13
        }
      ]
    },
    {
      "cell_type": "code",
      "source": [
        "def sub_divide(x):\n",
        "  print('initial x', x)\n",
        "  x -= 2 # x = x - 2\n",
        "  return x/2, x/4\n",
        "\n",
        "for v in df['hba1c'][::10]:\n",
        "  vf = sub_divide(v)\n",
        "  print('sub_divide(v)', vf)\n",
        "  print('v after sub_divide', v)\n",
        "  print('')"
      ],
      "metadata": {
        "colab": {
          "base_uri": "https://localhost:8080/"
        },
        "id": "1o1V9-bTqN_y",
        "outputId": "4bb1000d-4e43-40d7-a411-cbb2b5b38f03"
      },
      "execution_count": 14,
      "outputs": [
        {
          "output_type": "stream",
          "name": "stdout",
          "text": [
            "initial x 3.4899210065\n",
            "sub_divide(v) (0.74496050325, 0.372480251625)\n",
            "v after sub_divide 3.4899210065\n",
            "\n",
            "initial x 5.2762140538\n",
            "sub_divide(v) (1.6381070269000002, 0.8190535134500001)\n",
            "v after sub_divide 5.2762140538\n",
            "\n",
            "initial x 5.5838401234\n",
            "sub_divide(v) (1.7919200617, 0.89596003085)\n",
            "v after sub_divide 5.5838401234\n",
            "\n",
            "initial x 5.8615431534\n",
            "sub_divide(v) (1.9307715767000002, 0.9653857883500001)\n",
            "v after sub_divide 5.8615431534\n",
            "\n",
            "initial x 6.0069246363\n",
            "sub_divide(v) (2.00346231815, 1.001731159075)\n",
            "v after sub_divide 6.0069246363\n",
            "\n",
            "initial x 6.2420273996\n",
            "sub_divide(v) (2.1210136998, 1.0605068499)\n",
            "v after sub_divide 6.2420273996\n",
            "\n",
            "initial x 6.4042719863\n",
            "sub_divide(v) (2.20213599315, 1.101067996575)\n",
            "v after sub_divide 6.4042719863\n",
            "\n",
            "initial x 6.5049722237\n",
            "sub_divide(v) (2.25248611185, 1.126243055925)\n",
            "v after sub_divide 6.5049722237\n",
            "\n",
            "initial x 6.7273260021\n",
            "sub_divide(v) (2.36366300105, 1.181831500525)\n",
            "v after sub_divide 6.7273260021\n",
            "\n",
            "initial x 6.9008126581\n",
            "sub_divide(v) (2.45040632905, 1.225203164525)\n",
            "v after sub_divide 6.9008126581\n",
            "\n",
            "initial x 7.0912820145\n",
            "sub_divide(v) (2.54564100725, 1.272820503625)\n",
            "v after sub_divide 7.0912820145\n",
            "\n",
            "initial x 7.3556619964\n",
            "sub_divide(v) (2.6778309982, 1.3389154991)\n",
            "v after sub_divide 7.3556619964\n",
            "\n",
            "initial x 7.4308403447\n",
            "sub_divide(v) (2.71542017235, 1.357710086175)\n",
            "v after sub_divide 7.4308403447\n",
            "\n",
            "initial x 7.8689461756\n",
            "sub_divide(v) (2.9344730878, 1.4672365439)\n",
            "v after sub_divide 7.8689461756\n",
            "\n",
            "initial x 8.0030855892\n",
            "sub_divide(v) (3.0015427945999997, 1.5007713972999999)\n",
            "v after sub_divide 8.0030855892\n",
            "\n",
            "initial x 8.1625794569\n",
            "sub_divide(v) (3.08128972845, 1.540644864225)\n",
            "v after sub_divide 8.1625794569\n",
            "\n",
            "initial x 8.408972128\n",
            "sub_divide(v) (3.204486064, 1.602243032)\n",
            "v after sub_divide 8.408972128\n",
            "\n",
            "initial x 8.558395972\n",
            "sub_divide(v) (3.279197986, 1.639598993)\n",
            "v after sub_divide 8.558395972\n",
            "\n",
            "initial x 8.8194033332\n",
            "sub_divide(v) (3.4097016666, 1.7048508333)\n",
            "v after sub_divide 8.8194033332\n",
            "\n",
            "initial x 9.0867732271\n",
            "sub_divide(v) (3.54338661355, 1.771693306775)\n",
            "v after sub_divide 9.0867732271\n",
            "\n",
            "initial x 9.4649851401\n",
            "sub_divide(v) (3.73249257005, 1.866246285025)\n",
            "v after sub_divide 9.4649851401\n",
            "\n",
            "initial x 9.6856645677\n",
            "sub_divide(v) (3.84283228385, 1.921416141925)\n",
            "v after sub_divide 9.6856645677\n",
            "\n",
            "initial x 9.8591990624\n",
            "sub_divide(v) (3.9295995312, 1.9647997656)\n",
            "v after sub_divide 9.8591990624\n",
            "\n",
            "initial x 10.0921251697\n",
            "sub_divide(v) (4.04606258485, 2.023031292425)\n",
            "v after sub_divide 10.0921251697\n",
            "\n",
            "initial x 10.3270604979\n",
            "sub_divide(v) (4.16353024895, 2.081765124475)\n",
            "v after sub_divide 10.3270604979\n",
            "\n",
            "initial x 11.0040005023\n",
            "sub_divide(v) (4.50200025115, 2.251000125575)\n",
            "v after sub_divide 11.0040005023\n",
            "\n",
            "initial x 11.3086366599\n",
            "sub_divide(v) (4.65431832995, 2.327159164975)\n",
            "v after sub_divide 11.3086366599\n",
            "\n",
            "initial x 11.8953530787\n",
            "sub_divide(v) (4.94767653935, 2.473838269675)\n",
            "v after sub_divide 11.8953530787\n",
            "\n",
            "initial x 12.0885253156\n",
            "sub_divide(v) (5.0442626578, 2.5221313289)\n",
            "v after sub_divide 12.0885253156\n",
            "\n",
            "initial x 12.4523138929\n",
            "sub_divide(v) (5.22615694645, 2.613078473225)\n",
            "v after sub_divide 12.4523138929\n",
            "\n",
            "initial x 13.1264314204\n",
            "sub_divide(v) (5.5632157102, 2.7816078551)\n",
            "v after sub_divide 13.1264314204\n",
            "\n",
            "initial x 13.8297783279\n",
            "sub_divide(v) (5.91488916395, 2.957444581975)\n",
            "v after sub_divide 13.8297783279\n",
            "\n",
            "initial x 14.9124374361\n",
            "sub_divide(v) (6.45621871805, 3.228109359025)\n",
            "v after sub_divide 14.9124374361\n",
            "\n",
            "initial x 15.7139730549\n",
            "sub_divide(v) (6.85698652745, 3.428493263725)\n",
            "v after sub_divide 15.7139730549\n",
            "\n",
            "initial x 17.5203343918\n",
            "sub_divide(v) (7.760167195899999, 3.8800835979499997)\n",
            "v after sub_divide 17.5203343918\n",
            "\n"
          ]
        }
      ]
    },
    {
      "cell_type": "code",
      "source": [
        "print(df)\n",
        "df.head()"
      ],
      "metadata": {
        "colab": {
          "base_uri": "https://localhost:8080/",
          "height": 456
        },
        "id": "guivzmD__OAO",
        "outputId": "f8d7e4e1-ab28-4702-8806-99d050cd62a5"
      },
      "execution_count": 15,
      "outputs": [
        {
          "output_type": "stream",
          "name": "stdout",
          "text": [
            "         hba1c        rbg\n",
            "0     3.489921   6.241830\n",
            "1     5.159871   9.379085\n",
            "2     5.173050   5.392157\n",
            "3     5.187378   4.542484\n",
            "4     5.187378   4.542484\n",
            "..         ...        ...\n",
            "344  18.321416  13.300654\n",
            "345  18.326654  27.614379\n",
            "346  18.763659  21.732026\n",
            "347  20.129930  35.065359\n",
            "348  21.201801  43.954248\n",
            "\n",
            "[349 rows x 2 columns]\n"
          ]
        },
        {
          "output_type": "execute_result",
          "data": {
            "text/plain": [
              "      hba1c       rbg\n",
              "0  3.489921  6.241830\n",
              "1  5.159871  9.379085\n",
              "2  5.173050  5.392157\n",
              "3  5.187378  4.542484\n",
              "4  5.187378  4.542484"
            ],
            "text/html": [
              "\n",
              "  <div id=\"df-c0f46951-7751-413f-92eb-9c274cc1eb32\" class=\"colab-df-container\">\n",
              "    <div>\n",
              "<style scoped>\n",
              "    .dataframe tbody tr th:only-of-type {\n",
              "        vertical-align: middle;\n",
              "    }\n",
              "\n",
              "    .dataframe tbody tr th {\n",
              "        vertical-align: top;\n",
              "    }\n",
              "\n",
              "    .dataframe thead th {\n",
              "        text-align: right;\n",
              "    }\n",
              "</style>\n",
              "<table border=\"1\" class=\"dataframe\">\n",
              "  <thead>\n",
              "    <tr style=\"text-align: right;\">\n",
              "      <th></th>\n",
              "      <th>hba1c</th>\n",
              "      <th>rbg</th>\n",
              "    </tr>\n",
              "  </thead>\n",
              "  <tbody>\n",
              "    <tr>\n",
              "      <th>0</th>\n",
              "      <td>3.489921</td>\n",
              "      <td>6.241830</td>\n",
              "    </tr>\n",
              "    <tr>\n",
              "      <th>1</th>\n",
              "      <td>5.159871</td>\n",
              "      <td>9.379085</td>\n",
              "    </tr>\n",
              "    <tr>\n",
              "      <th>2</th>\n",
              "      <td>5.173050</td>\n",
              "      <td>5.392157</td>\n",
              "    </tr>\n",
              "    <tr>\n",
              "      <th>3</th>\n",
              "      <td>5.187378</td>\n",
              "      <td>4.542484</td>\n",
              "    </tr>\n",
              "    <tr>\n",
              "      <th>4</th>\n",
              "      <td>5.187378</td>\n",
              "      <td>4.542484</td>\n",
              "    </tr>\n",
              "  </tbody>\n",
              "</table>\n",
              "</div>\n",
              "    <div class=\"colab-df-buttons\">\n",
              "\n",
              "  <div class=\"colab-df-container\">\n",
              "    <button class=\"colab-df-convert\" onclick=\"convertToInteractive('df-c0f46951-7751-413f-92eb-9c274cc1eb32')\"\n",
              "            title=\"Convert this dataframe to an interactive table.\"\n",
              "            style=\"display:none;\">\n",
              "\n",
              "  <svg xmlns=\"http://www.w3.org/2000/svg\" height=\"24px\" viewBox=\"0 -960 960 960\">\n",
              "    <path d=\"M120-120v-720h720v720H120Zm60-500h600v-160H180v160Zm220 220h160v-160H400v160Zm0 220h160v-160H400v160ZM180-400h160v-160H180v160Zm440 0h160v-160H620v160ZM180-180h160v-160H180v160Zm440 0h160v-160H620v160Z\"/>\n",
              "  </svg>\n",
              "    </button>\n",
              "\n",
              "  <style>\n",
              "    .colab-df-container {\n",
              "      display:flex;\n",
              "      gap: 12px;\n",
              "    }\n",
              "\n",
              "    .colab-df-convert {\n",
              "      background-color: #E8F0FE;\n",
              "      border: none;\n",
              "      border-radius: 50%;\n",
              "      cursor: pointer;\n",
              "      display: none;\n",
              "      fill: #1967D2;\n",
              "      height: 32px;\n",
              "      padding: 0 0 0 0;\n",
              "      width: 32px;\n",
              "    }\n",
              "\n",
              "    .colab-df-convert:hover {\n",
              "      background-color: #E2EBFA;\n",
              "      box-shadow: 0px 1px 2px rgba(60, 64, 67, 0.3), 0px 1px 3px 1px rgba(60, 64, 67, 0.15);\n",
              "      fill: #174EA6;\n",
              "    }\n",
              "\n",
              "    .colab-df-buttons div {\n",
              "      margin-bottom: 4px;\n",
              "    }\n",
              "\n",
              "    [theme=dark] .colab-df-convert {\n",
              "      background-color: #3B4455;\n",
              "      fill: #D2E3FC;\n",
              "    }\n",
              "\n",
              "    [theme=dark] .colab-df-convert:hover {\n",
              "      background-color: #434B5C;\n",
              "      box-shadow: 0px 1px 3px 1px rgba(0, 0, 0, 0.15);\n",
              "      filter: drop-shadow(0px 1px 2px rgba(0, 0, 0, 0.3));\n",
              "      fill: #FFFFFF;\n",
              "    }\n",
              "  </style>\n",
              "\n",
              "    <script>\n",
              "      const buttonEl =\n",
              "        document.querySelector('#df-c0f46951-7751-413f-92eb-9c274cc1eb32 button.colab-df-convert');\n",
              "      buttonEl.style.display =\n",
              "        google.colab.kernel.accessAllowed ? 'block' : 'none';\n",
              "\n",
              "      async function convertToInteractive(key) {\n",
              "        const element = document.querySelector('#df-c0f46951-7751-413f-92eb-9c274cc1eb32');\n",
              "        const dataTable =\n",
              "          await google.colab.kernel.invokeFunction('convertToInteractive',\n",
              "                                                    [key], {});\n",
              "        if (!dataTable) return;\n",
              "\n",
              "        const docLinkHtml = 'Like what you see? Visit the ' +\n",
              "          '<a target=\"_blank\" href=https://colab.research.google.com/notebooks/data_table.ipynb>data table notebook</a>'\n",
              "          + ' to learn more about interactive tables.';\n",
              "        element.innerHTML = '';\n",
              "        dataTable['output_type'] = 'display_data';\n",
              "        await google.colab.output.renderOutput(dataTable, element);\n",
              "        const docLink = document.createElement('div');\n",
              "        docLink.innerHTML = docLinkHtml;\n",
              "        element.appendChild(docLink);\n",
              "      }\n",
              "    </script>\n",
              "  </div>\n",
              "\n",
              "\n",
              "<div id=\"df-eab73a70-136b-4fed-b8cd-3fbe6544ce8d\">\n",
              "  <button class=\"colab-df-quickchart\" onclick=\"quickchart('df-eab73a70-136b-4fed-b8cd-3fbe6544ce8d')\"\n",
              "            title=\"Suggest charts\"\n",
              "            style=\"display:none;\">\n",
              "\n",
              "<svg xmlns=\"http://www.w3.org/2000/svg\" height=\"24px\"viewBox=\"0 0 24 24\"\n",
              "     width=\"24px\">\n",
              "    <g>\n",
              "        <path d=\"M19 3H5c-1.1 0-2 .9-2 2v14c0 1.1.9 2 2 2h14c1.1 0 2-.9 2-2V5c0-1.1-.9-2-2-2zM9 17H7v-7h2v7zm4 0h-2V7h2v10zm4 0h-2v-4h2v4z\"/>\n",
              "    </g>\n",
              "</svg>\n",
              "  </button>\n",
              "\n",
              "<style>\n",
              "  .colab-df-quickchart {\n",
              "      --bg-color: #E8F0FE;\n",
              "      --fill-color: #1967D2;\n",
              "      --hover-bg-color: #E2EBFA;\n",
              "      --hover-fill-color: #174EA6;\n",
              "      --disabled-fill-color: #AAA;\n",
              "      --disabled-bg-color: #DDD;\n",
              "  }\n",
              "\n",
              "  [theme=dark] .colab-df-quickchart {\n",
              "      --bg-color: #3B4455;\n",
              "      --fill-color: #D2E3FC;\n",
              "      --hover-bg-color: #434B5C;\n",
              "      --hover-fill-color: #FFFFFF;\n",
              "      --disabled-bg-color: #3B4455;\n",
              "      --disabled-fill-color: #666;\n",
              "  }\n",
              "\n",
              "  .colab-df-quickchart {\n",
              "    background-color: var(--bg-color);\n",
              "    border: none;\n",
              "    border-radius: 50%;\n",
              "    cursor: pointer;\n",
              "    display: none;\n",
              "    fill: var(--fill-color);\n",
              "    height: 32px;\n",
              "    padding: 0;\n",
              "    width: 32px;\n",
              "  }\n",
              "\n",
              "  .colab-df-quickchart:hover {\n",
              "    background-color: var(--hover-bg-color);\n",
              "    box-shadow: 0 1px 2px rgba(60, 64, 67, 0.3), 0 1px 3px 1px rgba(60, 64, 67, 0.15);\n",
              "    fill: var(--button-hover-fill-color);\n",
              "  }\n",
              "\n",
              "  .colab-df-quickchart-complete:disabled,\n",
              "  .colab-df-quickchart-complete:disabled:hover {\n",
              "    background-color: var(--disabled-bg-color);\n",
              "    fill: var(--disabled-fill-color);\n",
              "    box-shadow: none;\n",
              "  }\n",
              "\n",
              "  .colab-df-spinner {\n",
              "    border: 2px solid var(--fill-color);\n",
              "    border-color: transparent;\n",
              "    border-bottom-color: var(--fill-color);\n",
              "    animation:\n",
              "      spin 1s steps(1) infinite;\n",
              "  }\n",
              "\n",
              "  @keyframes spin {\n",
              "    0% {\n",
              "      border-color: transparent;\n",
              "      border-bottom-color: var(--fill-color);\n",
              "      border-left-color: var(--fill-color);\n",
              "    }\n",
              "    20% {\n",
              "      border-color: transparent;\n",
              "      border-left-color: var(--fill-color);\n",
              "      border-top-color: var(--fill-color);\n",
              "    }\n",
              "    30% {\n",
              "      border-color: transparent;\n",
              "      border-left-color: var(--fill-color);\n",
              "      border-top-color: var(--fill-color);\n",
              "      border-right-color: var(--fill-color);\n",
              "    }\n",
              "    40% {\n",
              "      border-color: transparent;\n",
              "      border-right-color: var(--fill-color);\n",
              "      border-top-color: var(--fill-color);\n",
              "    }\n",
              "    60% {\n",
              "      border-color: transparent;\n",
              "      border-right-color: var(--fill-color);\n",
              "    }\n",
              "    80% {\n",
              "      border-color: transparent;\n",
              "      border-right-color: var(--fill-color);\n",
              "      border-bottom-color: var(--fill-color);\n",
              "    }\n",
              "    90% {\n",
              "      border-color: transparent;\n",
              "      border-bottom-color: var(--fill-color);\n",
              "    }\n",
              "  }\n",
              "</style>\n",
              "\n",
              "  <script>\n",
              "    async function quickchart(key) {\n",
              "      const quickchartButtonEl =\n",
              "        document.querySelector('#' + key + ' button');\n",
              "      quickchartButtonEl.disabled = true;  // To prevent multiple clicks.\n",
              "      quickchartButtonEl.classList.add('colab-df-spinner');\n",
              "      try {\n",
              "        const charts = await google.colab.kernel.invokeFunction(\n",
              "            'suggestCharts', [key], {});\n",
              "      } catch (error) {\n",
              "        console.error('Error during call to suggestCharts:', error);\n",
              "      }\n",
              "      quickchartButtonEl.classList.remove('colab-df-spinner');\n",
              "      quickchartButtonEl.classList.add('colab-df-quickchart-complete');\n",
              "    }\n",
              "    (() => {\n",
              "      let quickchartButtonEl =\n",
              "        document.querySelector('#df-eab73a70-136b-4fed-b8cd-3fbe6544ce8d button');\n",
              "      quickchartButtonEl.style.display =\n",
              "        google.colab.kernel.accessAllowed ? 'block' : 'none';\n",
              "    })();\n",
              "  </script>\n",
              "</div>\n",
              "    </div>\n",
              "  </div>\n"
            ]
          },
          "metadata": {},
          "execution_count": 15
        }
      ]
    },
    {
      "cell_type": "code",
      "source": [
        "plt.rcParams['font.size'] = 22\n",
        "\n",
        "fig = plt.figure(figsize=(8, 6))\n",
        "ax = fig.subplots()\n",
        "# or\n",
        "# fig, ax = plt.subplots(figsize=(10, 7))\n",
        "\n",
        "ax.scatter(df['rbg'], df['hba1c'], s=100, label=\"data points\")\n",
        "ax.set_xlabel('rbg (mmol/l)')\n",
        "ax.set_ylabel('hba1c(DCCT percentage)')\n",
        "ax.legend(bbox_to_anchor=(1,0), loc='lower right')\n",
        "plt.title('diabetic patient blood glucose vs glycosylated hemoglobin')\n",
        "plt.show()\n",
        "fig.savefig('fig.png', bbox_inches='tight')"
      ],
      "metadata": {
        "colab": {
          "base_uri": "https://localhost:8080/",
          "height": 609
        },
        "id": "rAZO1JRf_kb-",
        "outputId": "f7b06838-14f0-407a-c3c2-f597b2f53360"
      },
      "execution_count": 26,
      "outputs": [
        {
          "output_type": "display_data",
          "data": {
            "text/plain": [
              "<Figure size 800x600 with 1 Axes>"
            ],
            "image/png": "[encoded data removed]"
          },
          "metadata": {}
        }
      ]
    }
  ]
}